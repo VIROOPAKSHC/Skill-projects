{
 "cells": [
  {
   "cell_type": "code",
   "execution_count": 1,
   "metadata": {},
   "outputs": [],
   "source": [
    "import torch"
   ]
  },
  {
   "cell_type": "code",
   "execution_count": 2,
   "metadata": {},
   "outputs": [],
   "source": [
    "import numpy as np"
   ]
  },
  {
   "cell_type": "code",
   "execution_count": 7,
   "metadata": {},
   "outputs": [],
   "source": [
    "class TicTacToe:\n",
    "    def __init__(self):\n",
    "        self.row_count=3\n",
    "        self.col_count=3\n",
    "        self.action_size=self.row_count*self.col_count\n",
    "    \n",
    "    def get_initial_state(self):\n",
    "        return np.zeros((self.row_count,self.col_count))\n",
    "    \n",
    "    def get_next_state(self,state,action,player):\n",
    "        row = action // self.col_count\n",
    "        col = action % self.col_count\n",
    "        state[row,col] = player\n",
    "        return state\n",
    "    \n",
    "    def get_valid_moves(self,state):\n",
    "        return (state.reshape(-1)==0).astype(np.uint8)\n",
    "    \n",
    "    def check_win(self,state,action):\n",
    "        row = action // self.col_count\n",
    "        col = action % self.col_count\n",
    "        player = state[row,col]\n",
    "\n",
    "        return (\n",
    "            np.sum(state[row,:]) == player*self.col_count\n",
    "            or np.sum(state[:,col]) == player*self.row_count\n",
    "            or np.sum(np.diag(state)) == player*self.row_count\n",
    "            or np.sum(np.diag(np.flip(state,axis=0))) == player * self.row_count\n",
    "        )\n",
    "    \n",
    "    def get_value_and_terminated(self,state,action):\n",
    "        if self.check_win(state,action):\n",
    "            return 1,True\n",
    "        \n",
    "        if np.sum(self.get_valid_moves(state)) == 0:\n",
    "            return 0,True\n",
    "    \n",
    "        return 0,False\n",
    "\n",
    "    def get_opponent(self,player):\n",
    "        return -player\n",
    "\n"
   ]
  },
  {
   "cell_type": "code",
   "execution_count": 8,
   "metadata": {},
   "outputs": [
    {
     "name": "stdout",
     "output_type": "stream",
     "text": [
      "[[0. 0. 0.]\n",
      " [0. 0. 0.]\n",
      " [0. 0. 0.]]\n",
      "valid moves [0, 1, 2, 3, 4, 5, 6, 7, 8]\n",
      "[[1. 0. 0.]\n",
      " [0. 0. 0.]\n",
      " [0. 0. 0.]]\n",
      "valid moves [1, 2, 3, 4, 5, 6, 7, 8]\n",
      "[[ 1.  0.  0.]\n",
      " [ 0. -1.  0.]\n",
      " [ 0.  0.  0.]]\n",
      "valid moves [1, 2, 3, 5, 6, 7, 8]\n",
      "[[ 1.  1.  0.]\n",
      " [ 0. -1.  0.]\n",
      " [ 0.  0.  0.]]\n",
      "valid moves [2, 3, 5, 6, 7, 8]\n",
      "[[ 1.  1.  0.]\n",
      " [-1. -1.  0.]\n",
      " [ 0.  0.  0.]]\n",
      "valid moves [2, 5, 6, 7, 8]\n",
      "[[ 1.  1.  1.]\n",
      " [-1. -1.  0.]\n",
      " [ 0.  0.  0.]]\n",
      "1 won\n"
     ]
    }
   ],
   "source": [
    "tictactoe = TicTacToe()\n",
    "player = 1\n",
    "\n",
    "state = tictactoe.get_initial_state()\n",
    "\n",
    "while True:\n",
    "    print(state)\n",
    "    valid_moves = tictactoe.get_valid_moves(state)\n",
    "    print(\"valid moves\",[i for i in range(tictactoe.action_size) if valid_moves[i]==1])\n",
    "    action = int(input(f\"{player}:\"))\n",
    "\n",
    "    if valid_moves[action]==0:\n",
    "        print(\"action not valid\")\n",
    "        continue\n",
    "\n",
    "    state = tictactoe.get_next_state(state,action,player)\n",
    "    value,is_terminal = tictactoe.get_value_and_terminated(state,action)\n",
    "\n",
    "    if is_terminal:\n",
    "        print(state)\n",
    "        if value == 1:\n",
    "            print(player,\"won\")\n",
    "        else:\n",
    "            print(\"draw\")\n",
    "        break\n",
    "    player = tictactoe.get_opponent(player)\n",
    "\n",
    "    "
   ]
  },
  {
   "cell_type": "code",
   "execution_count": null,
   "metadata": {},
   "outputs": [],
   "source": []
  }
 ],
 "metadata": {
  "kernelspec": {
   "display_name": "env",
   "language": "python",
   "name": "python3"
  },
  "language_info": {
   "codemirror_mode": {
    "name": "ipython",
    "version": 3
   },
   "file_extension": ".py",
   "mimetype": "text/x-python",
   "name": "python",
   "nbconvert_exporter": "python",
   "pygments_lexer": "ipython3",
   "version": "3.11.7"
  }
 },
 "nbformat": 4,
 "nbformat_minor": 2
}
